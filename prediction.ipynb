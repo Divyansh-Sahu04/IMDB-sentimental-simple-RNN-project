{
 "cells": [
  {
   "cell_type": "code",
   "execution_count": 2,
   "id": "1c02ec3c",
   "metadata": {},
   "outputs": [],
   "source": [
    "import numpy as np\n",
    "import tensorflow as tf\n",
    "from tensorflow.keras.datasets import imdb\n",
    "from tensorflow.keras.preprocessing import sequence\n",
    "from tensorflow.keras.models import load_model"
   ]
  },
  {
   "cell_type": "code",
   "execution_count": 3,
   "id": "da8a49d3",
   "metadata": {},
   "outputs": [],
   "source": [
    "## Load the IMDB dataset word index\n",
    "\n",
    "word_index=imdb.get_word_index()\n",
    "reverse_word_index={value:key for key,value in word_index.items()}"
   ]
  },
  {
   "cell_type": "code",
   "execution_count": 4,
   "id": "a67f7aea",
   "metadata": {},
   "outputs": [
    {
     "name": "stderr",
     "output_type": "stream",
     "text": [
      "WARNING:absl:Compiled the loaded model, but the compiled metrics have yet to be built. `model.compile_metrics` will be empty until you train or evaluate the model.\n"
     ]
    },
    {
     "data": {
      "text/html": [
       "<pre style=\"white-space:pre;overflow-x:auto;line-height:normal;font-family:Menlo,'DejaVu Sans Mono',consolas,'Courier New',monospace\"><span style=\"font-weight: bold\">Model: \"sequential\"</span>\n",
       "</pre>\n"
      ],
      "text/plain": [
       "\u001b[1mModel: \"sequential\"\u001b[0m\n"
      ]
     },
     "metadata": {},
     "output_type": "display_data"
    },
    {
     "data": {
      "text/html": [
       "<pre style=\"white-space:pre;overflow-x:auto;line-height:normal;font-family:Menlo,'DejaVu Sans Mono',consolas,'Courier New',monospace\">┏━━━━━━━━━━━━━━━━━━━━━━━━━━━━━━━━━┳━━━━━━━━━━━━━━━━━━━━━━━━┳━━━━━━━━━━━━━━━┓\n",
       "┃<span style=\"font-weight: bold\"> Layer (type)                    </span>┃<span style=\"font-weight: bold\"> Output Shape           </span>┃<span style=\"font-weight: bold\">       Param # </span>┃\n",
       "┡━━━━━━━━━━━━━━━━━━━━━━━━━━━━━━━━━╇━━━━━━━━━━━━━━━━━━━━━━━━╇━━━━━━━━━━━━━━━┩\n",
       "│ embedding (<span style=\"color: #0087ff; text-decoration-color: #0087ff\">Embedding</span>)           │ (<span style=\"color: #00af00; text-decoration-color: #00af00\">32</span>, <span style=\"color: #00af00; text-decoration-color: #00af00\">500</span>, <span style=\"color: #00af00; text-decoration-color: #00af00\">128</span>)         │     <span style=\"color: #00af00; text-decoration-color: #00af00\">1,280,000</span> │\n",
       "├─────────────────────────────────┼────────────────────────┼───────────────┤\n",
       "│ simple_rnn (<span style=\"color: #0087ff; text-decoration-color: #0087ff\">SimpleRNN</span>)          │ (<span style=\"color: #00af00; text-decoration-color: #00af00\">32</span>, <span style=\"color: #00af00; text-decoration-color: #00af00\">128</span>)              │        <span style=\"color: #00af00; text-decoration-color: #00af00\">32,896</span> │\n",
       "├─────────────────────────────────┼────────────────────────┼───────────────┤\n",
       "│ dense (<span style=\"color: #0087ff; text-decoration-color: #0087ff\">Dense</span>)                   │ (<span style=\"color: #00af00; text-decoration-color: #00af00\">32</span>, <span style=\"color: #00af00; text-decoration-color: #00af00\">1</span>)                │           <span style=\"color: #00af00; text-decoration-color: #00af00\">129</span> │\n",
       "└─────────────────────────────────┴────────────────────────┴───────────────┘\n",
       "</pre>\n"
      ],
      "text/plain": [
       "┏━━━━━━━━━━━━━━━━━━━━━━━━━━━━━━━━━┳━━━━━━━━━━━━━━━━━━━━━━━━┳━━━━━━━━━━━━━━━┓\n",
       "┃\u001b[1m \u001b[0m\u001b[1mLayer (type)                   \u001b[0m\u001b[1m \u001b[0m┃\u001b[1m \u001b[0m\u001b[1mOutput Shape          \u001b[0m\u001b[1m \u001b[0m┃\u001b[1m \u001b[0m\u001b[1m      Param #\u001b[0m\u001b[1m \u001b[0m┃\n",
       "┡━━━━━━━━━━━━━━━━━━━━━━━━━━━━━━━━━╇━━━━━━━━━━━━━━━━━━━━━━━━╇━━━━━━━━━━━━━━━┩\n",
       "│ embedding (\u001b[38;5;33mEmbedding\u001b[0m)           │ (\u001b[38;5;34m32\u001b[0m, \u001b[38;5;34m500\u001b[0m, \u001b[38;5;34m128\u001b[0m)         │     \u001b[38;5;34m1,280,000\u001b[0m │\n",
       "├─────────────────────────────────┼────────────────────────┼───────────────┤\n",
       "│ simple_rnn (\u001b[38;5;33mSimpleRNN\u001b[0m)          │ (\u001b[38;5;34m32\u001b[0m, \u001b[38;5;34m128\u001b[0m)              │        \u001b[38;5;34m32,896\u001b[0m │\n",
       "├─────────────────────────────────┼────────────────────────┼───────────────┤\n",
       "│ dense (\u001b[38;5;33mDense\u001b[0m)                   │ (\u001b[38;5;34m32\u001b[0m, \u001b[38;5;34m1\u001b[0m)                │           \u001b[38;5;34m129\u001b[0m │\n",
       "└─────────────────────────────────┴────────────────────────┴───────────────┘\n"
      ]
     },
     "metadata": {},
     "output_type": "display_data"
    },
    {
     "data": {
      "text/html": [
       "<pre style=\"white-space:pre;overflow-x:auto;line-height:normal;font-family:Menlo,'DejaVu Sans Mono',consolas,'Courier New',monospace\"><span style=\"font-weight: bold\"> Total params: </span><span style=\"color: #00af00; text-decoration-color: #00af00\">1,313,027</span> (5.01 MB)\n",
       "</pre>\n"
      ],
      "text/plain": [
       "\u001b[1m Total params: \u001b[0m\u001b[38;5;34m1,313,027\u001b[0m (5.01 MB)\n"
      ]
     },
     "metadata": {},
     "output_type": "display_data"
    },
    {
     "data": {
      "text/html": [
       "<pre style=\"white-space:pre;overflow-x:auto;line-height:normal;font-family:Menlo,'DejaVu Sans Mono',consolas,'Courier New',monospace\"><span style=\"font-weight: bold\"> Trainable params: </span><span style=\"color: #00af00; text-decoration-color: #00af00\">1,313,025</span> (5.01 MB)\n",
       "</pre>\n"
      ],
      "text/plain": [
       "\u001b[1m Trainable params: \u001b[0m\u001b[38;5;34m1,313,025\u001b[0m (5.01 MB)\n"
      ]
     },
     "metadata": {},
     "output_type": "display_data"
    },
    {
     "data": {
      "text/html": [
       "<pre style=\"white-space:pre;overflow-x:auto;line-height:normal;font-family:Menlo,'DejaVu Sans Mono',consolas,'Courier New',monospace\"><span style=\"font-weight: bold\"> Non-trainable params: </span><span style=\"color: #00af00; text-decoration-color: #00af00\">0</span> (0.00 B)\n",
       "</pre>\n"
      ],
      "text/plain": [
       "\u001b[1m Non-trainable params: \u001b[0m\u001b[38;5;34m0\u001b[0m (0.00 B)\n"
      ]
     },
     "metadata": {},
     "output_type": "display_data"
    },
    {
     "data": {
      "text/html": [
       "<pre style=\"white-space:pre;overflow-x:auto;line-height:normal;font-family:Menlo,'DejaVu Sans Mono',consolas,'Courier New',monospace\"><span style=\"font-weight: bold\"> Optimizer params: </span><span style=\"color: #00af00; text-decoration-color: #00af00\">2</span> (12.00 B)\n",
       "</pre>\n"
      ],
      "text/plain": [
       "\u001b[1m Optimizer params: \u001b[0m\u001b[38;5;34m2\u001b[0m (12.00 B)\n"
      ]
     },
     "metadata": {},
     "output_type": "display_data"
    }
   ],
   "source": [
    "## Load the IMDB dataset word index\n",
    "\n",
    "model=load_model(\"simple_rnn_imdb.h5\")\n",
    "model.summary()"
   ]
  },
  {
   "cell_type": "code",
   "execution_count": 5,
   "id": "6cd138d9",
   "metadata": {},
   "outputs": [
    {
     "data": {
      "text/plain": [
       "[array([[ 0.01256325,  0.0307151 ,  0.1141688 , ..., -0.10008905,\n",
       "          0.43338394, -0.05506989],\n",
       "        [-0.02204523,  0.03419346, -0.01109132, ...,  0.03075098,\n",
       "          0.11038072,  0.05252388],\n",
       "        [ 0.05465917, -0.23246163,  0.18366842, ...,  0.07698235,\n",
       "          0.16686977, -0.14693941],\n",
       "        ...,\n",
       "        [-0.13669059, -0.05278917, -0.13341653, ...,  0.1775391 ,\n",
       "          0.04754853,  0.16328187],\n",
       "        [ 0.11804099, -0.11099343,  0.07231037, ..., -0.075477  ,\n",
       "         -0.14233343, -0.08456667],\n",
       "        [-0.1203941 , -0.02666306, -0.14448003, ...,  0.08569715,\n",
       "          0.0188911 ,  0.1463511 ]], dtype=float32),\n",
       " array([[-0.07504372,  0.02451678, -0.1077209 , ...,  0.1719904 ,\n",
       "         -0.03711828, -0.02195656],\n",
       "        [ 0.10168419,  0.13236284,  0.07694874, ..., -0.1952397 ,\n",
       "          0.07431934,  0.01044021],\n",
       "        [-0.05016263, -0.21113515,  0.1396258 , ...,  0.1957844 ,\n",
       "          0.0195477 ,  0.06842029],\n",
       "        ...,\n",
       "        [-0.12245569, -0.11730184,  0.11039238, ..., -0.07443404,\n",
       "         -0.11039655, -0.04621224],\n",
       "        [-0.16739677, -0.09900432, -0.17084305, ..., -0.02582514,\n",
       "         -0.08227105, -0.04701597],\n",
       "        [-0.11554866,  0.04439288,  0.14995168, ..., -0.02993836,\n",
       "          0.04279618, -0.03399956]], dtype=float32),\n",
       " array([[ 0.00856727, -0.10121998,  0.01271713, ..., -0.07378261,\n",
       "         -0.03174719,  0.07430825],\n",
       "        [-0.08076868, -0.12929317, -0.04709406, ...,  0.00222691,\n",
       "         -0.02169005, -0.0300392 ],\n",
       "        [-0.01528337,  0.13922228, -0.16417687, ...,  0.15722688,\n",
       "          0.09106693,  0.15044533],\n",
       "        ...,\n",
       "        [-0.14541584, -0.03334448, -0.07175346, ..., -0.10932798,\n",
       "         -0.11162084, -0.09203939],\n",
       "        [ 0.01232765,  0.09383421, -0.07858074, ...,  0.11883488,\n",
       "         -0.00808169, -0.06109083],\n",
       "        [-0.0071569 , -0.02928968, -0.03791619, ..., -0.04569169,\n",
       "         -0.12880619,  0.0171676 ]], dtype=float32),\n",
       " array([-0.02890626,  0.03891535, -0.04917769, -0.03697738, -0.00538311,\n",
       "        -0.02617875, -0.00849945,  0.00177172,  0.01104203,  0.00115506,\n",
       "         0.02255423, -0.05034937, -0.06181791, -0.03387242, -0.03163877,\n",
       "         0.02464923, -0.02463701, -0.01580369, -0.02986822,  0.00290027,\n",
       "        -0.01187773, -0.02736302, -0.03333514, -0.03888449, -0.04103008,\n",
       "        -0.04671803, -0.04193667,  0.01529322, -0.0213724 , -0.0255163 ,\n",
       "        -0.03714831,  0.06136345, -0.01419933, -0.02946211,  0.05992584,\n",
       "        -0.0065108 ,  0.04506373,  0.00717313, -0.03135952, -0.01949218,\n",
       "        -0.0254887 ,  0.009807  ,  0.01756882, -0.02484309,  0.05227315,\n",
       "        -0.04048554, -0.03122039, -0.02587542,  0.01486548,  0.00743023,\n",
       "         0.04449371, -0.00077596,  0.03764812, -0.0074544 , -0.04485582,\n",
       "        -0.04594427, -0.04294217, -0.01158723, -0.07573717, -0.00094902,\n",
       "        -0.03053587, -0.01394326,  0.0196873 , -0.04937225,  0.06196133,\n",
       "         0.00981893, -0.05818113, -0.00881245, -0.04008503,  0.00533882,\n",
       "        -0.02746157, -0.03206202, -0.01093868, -0.01923082,  0.0102779 ,\n",
       "        -0.01401703,  0.06010753,  0.03222945,  0.01925396, -0.00365667,\n",
       "        -0.03052806,  0.02739106, -0.03703606, -0.01835763,  0.05113089,\n",
       "        -0.01057822, -0.04131607, -0.04672587, -0.00734703, -0.03728387,\n",
       "        -0.04224853, -0.01901209, -0.05699341, -0.01212616, -0.03505896,\n",
       "        -0.00192335, -0.02153083,  0.01759073, -0.00727422, -0.02532835,\n",
       "        -0.00889762, -0.01613569,  0.0332105 , -0.00890988,  0.02602711,\n",
       "        -0.01795382, -0.04418511, -0.06049934,  0.04873413, -0.04184169,\n",
       "        -0.00570627,  0.00173099, -0.03264916, -0.00172055,  0.0605311 ,\n",
       "        -0.02574111,  0.00916959, -0.03038757, -0.02133909, -0.01988388,\n",
       "        -0.02057517,  0.00793313, -0.00381266,  0.04018235, -0.02087687,\n",
       "         0.06226331,  0.00563443, -0.01133257], dtype=float32),\n",
       " array([[ 5.14862761e-02],\n",
       "        [ 1.00793675e-01],\n",
       "        [ 9.38829705e-02],\n",
       "        [ 7.04935119e-02],\n",
       "        [ 2.09361717e-01],\n",
       "        [ 1.05254814e-01],\n",
       "        [ 5.20998955e-01],\n",
       "        [ 9.70224813e-02],\n",
       "        [ 1.86198261e-02],\n",
       "        [-5.56099936e-02],\n",
       "        [-5.45672104e-02],\n",
       "        [-1.22798188e-03],\n",
       "        [ 8.57892632e-02],\n",
       "        [-4.08692025e-02],\n",
       "        [ 1.12879410e-01],\n",
       "        [ 4.29821670e-01],\n",
       "        [ 2.44768485e-01],\n",
       "        [-4.18990850e-01],\n",
       "        [ 1.31199006e-02],\n",
       "        [ 1.16223976e-01],\n",
       "        [ 8.21207091e-02],\n",
       "        [ 1.22647382e-01],\n",
       "        [ 1.14158265e-01],\n",
       "        [ 1.51852503e-01],\n",
       "        [ 1.95240334e-01],\n",
       "        [ 8.16976354e-02],\n",
       "        [-1.47415802e-01],\n",
       "        [ 2.11394921e-01],\n",
       "        [-1.13151535e-01],\n",
       "        [ 5.72843663e-02],\n",
       "        [ 7.27031603e-02],\n",
       "        [ 3.65729898e-01],\n",
       "        [-6.85507879e-02],\n",
       "        [ 2.25581437e-01],\n",
       "        [-4.93287034e-02],\n",
       "        [ 7.42244050e-02],\n",
       "        [ 6.57018840e-01],\n",
       "        [-6.54710978e-02],\n",
       "        [-7.57106766e-03],\n",
       "        [-4.08080131e-01],\n",
       "        [-2.19381042e-02],\n",
       "        [ 1.68473035e-01],\n",
       "        [-1.67687744e-01],\n",
       "        [ 1.47416055e-01],\n",
       "        [-7.04078600e-02],\n",
       "        [ 2.39228662e-02],\n",
       "        [-1.48351369e-02],\n",
       "        [ 8.39237869e-02],\n",
       "        [ 6.29400089e-02],\n",
       "        [ 2.51552463e-01],\n",
       "        [-1.58272609e-01],\n",
       "        [-2.83282399e-02],\n",
       "        [ 9.31608230e-02],\n",
       "        [ 1.36200339e-01],\n",
       "        [ 8.61335173e-02],\n",
       "        [-1.50456801e-01],\n",
       "        [ 2.45063454e-02],\n",
       "        [-1.30877554e-01],\n",
       "        [-1.94523305e-01],\n",
       "        [ 1.08658068e-01],\n",
       "        [-2.45607525e-01],\n",
       "        [-1.05212107e-01],\n",
       "        [ 1.90880984e-01],\n",
       "        [ 1.60295814e-01],\n",
       "        [-8.22773129e-02],\n",
       "        [ 3.61188687e-02],\n",
       "        [ 1.96266249e-01],\n",
       "        [ 4.44367290e-01],\n",
       "        [ 8.27988535e-02],\n",
       "        [-1.27951980e-01],\n",
       "        [-1.49073526e-01],\n",
       "        [-8.74749199e-02],\n",
       "        [ 1.02995850e-01],\n",
       "        [ 1.77714184e-01],\n",
       "        [ 1.57494396e-01],\n",
       "        [-1.95425585e-01],\n",
       "        [ 1.24780282e-01],\n",
       "        [-1.59722000e-01],\n",
       "        [ 9.88345146e-02],\n",
       "        [ 3.65971595e-01],\n",
       "        [ 2.48211473e-02],\n",
       "        [-3.41872483e-01],\n",
       "        [-1.17981724e-01],\n",
       "        [ 4.59013917e-02],\n",
       "        [-2.27183383e-02],\n",
       "        [-2.63325721e-01],\n",
       "        [ 6.63534030e-02],\n",
       "        [-2.20276654e-01],\n",
       "        [ 1.23196557e-01],\n",
       "        [-2.83038039e-02],\n",
       "        [ 1.44951046e-01],\n",
       "        [-1.08396888e-01],\n",
       "        [ 1.22293897e-01],\n",
       "        [-6.37302399e-02],\n",
       "        [ 3.09454594e-02],\n",
       "        [-9.72564798e-03],\n",
       "        [ 1.53071940e-01],\n",
       "        [ 8.99791494e-02],\n",
       "        [ 1.22981042e-01],\n",
       "        [ 3.18053588e-02],\n",
       "        [-9.87465307e-02],\n",
       "        [-1.42599225e-01],\n",
       "        [-1.12205975e-01],\n",
       "        [ 2.67630786e-01],\n",
       "        [-1.42367914e-01],\n",
       "        [ 1.60936117e-01],\n",
       "        [-1.41618788e-01],\n",
       "        [ 9.10670161e-02],\n",
       "        [ 4.24672365e-02],\n",
       "        [-2.09744275e-01],\n",
       "        [-1.07539665e-04],\n",
       "        [ 3.15473042e-02],\n",
       "        [-2.35692877e-02],\n",
       "        [ 8.65350664e-02],\n",
       "        [-5.93569018e-02],\n",
       "        [-7.17670560e-01],\n",
       "        [-2.01937556e-01],\n",
       "        [ 8.71604681e-03],\n",
       "        [ 4.52231243e-02],\n",
       "        [ 3.15699607e-01],\n",
       "        [ 1.13231272e-01],\n",
       "        [-1.18202046e-01],\n",
       "        [-9.20114756e-01],\n",
       "        [ 2.22228318e-01],\n",
       "        [ 2.88402159e-02],\n",
       "        [-1.42027050e-01],\n",
       "        [-1.85763106e-01],\n",
       "        [-2.54371483e-02]], dtype=float32),\n",
       " array([0.60889155], dtype=float32)]"
      ]
     },
     "execution_count": 5,
     "metadata": {},
     "output_type": "execute_result"
    }
   ],
   "source": [
    "model.get_weights()"
   ]
  },
  {
   "cell_type": "code",
   "execution_count": 6,
   "id": "3c86c174",
   "metadata": {},
   "outputs": [],
   "source": [
    "# Step 2: Helper Functions\n",
    "# Functions to decode reviews\n",
    "\n",
    "def decode_review(encoded_review):\n",
    "    return \" \".join([reverse_word_index.get(i-3,\"?\") for i in encoded_review])\n",
    "\n",
    "# Function to preprocess user input\n",
    "\n",
    "def preprocess_text(text):\n",
    "    words=text.lower().split()\n",
    "    encoded_review=[word_index.get(word,2)+3 for word in words]\n",
    "    padded_review=sequence.pad_sequences([encoded_review],maxlen=500)\n",
    "    return padded_review"
   ]
  },
  {
   "cell_type": "code",
   "execution_count": 7,
   "id": "a70eee16",
   "metadata": {},
   "outputs": [],
   "source": [
    "## Prediction function\n",
    "\n",
    "def predict_sentiment(review):\n",
    "    preprocessed_input=preprocess_text(review)\n",
    "    prediction=model.predict(preprocessed_input)\n",
    "    \n",
    "    sentiment=\"Positive\" if prediction[0][0]>0.5 else \"Negative\"\n",
    "    \n",
    "    return sentiment, prediction[0][0]\n",
    "\n"
   ]
  },
  {
   "cell_type": "code",
   "execution_count": 10,
   "id": "8689963b",
   "metadata": {},
   "outputs": [
    {
     "name": "stdout",
     "output_type": "stream",
     "text": [
      "\u001b[1m1/1\u001b[0m \u001b[32m━━━━━━━━━━━━━━━━━━━━\u001b[0m\u001b[37m\u001b[0m \u001b[1m0s\u001b[0m 30ms/step\n",
      "Review:This movie was really fantastic\n",
      "sentiment:Positive\n",
      "Prediction Score:0.8240813612937927\n"
     ]
    }
   ],
   "source": [
    "# Example review for prediction\n",
    "\n",
    "example_review=\"This movie was really fantastic\"\n",
    "\n",
    "sentiment,score=predict_sentiment(example_review)\n",
    "\n",
    "print(f\"Review:{example_review}\")\n",
    "print(f\"sentiment:{sentiment}\")\n",
    "print(f\"Prediction Score:{score}\")"
   ]
  },
  {
   "cell_type": "code",
   "execution_count": null,
   "id": "270fb59c",
   "metadata": {},
   "outputs": [],
   "source": []
  }
 ],
 "metadata": {
  "kernelspec": {
   "display_name": "base",
   "language": "python",
   "name": "python3"
  },
  "language_info": {
   "codemirror_mode": {
    "name": "ipython",
    "version": 3
   },
   "file_extension": ".py",
   "mimetype": "text/x-python",
   "name": "python",
   "nbconvert_exporter": "python",
   "pygments_lexer": "ipython3",
   "version": "3.12.7"
  }
 },
 "nbformat": 4,
 "nbformat_minor": 5
}
